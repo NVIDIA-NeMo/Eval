{
 "cells": [
  {
   "cell_type": "markdown",
   "id": "675dbb2d-57bb-414c-bf7e-63dc6aa072a5",
   "metadata": {},
   "source": [
    "# Evaluating a NeMo checkpoint with lm-eval"
   ]
  },
  {
   "cell_type": "markdown",
   "id": "8d4e997c-cf60-45f4-bbd1-c71a1c221687",
   "metadata": {},
   "source": [
    "This notebook showcases how to evaluate a model with NeMo 2.0. It will guide you through the process of in-framework deployment, and evaluation of completions and chat endpoints.\n",
    "\n",
    "In this tutorial we will evaluate an LLM on the [MMLU benchmark](https://arxiv.org/abs/2009.03300).\n",
    "The benchmark measures a language model's general knowledge across 57 diverse subjects, ranging from humanities and social sciences to STEM and professional fields, using multiple-choice questions.\n",
    "We will use two variants of the benchmarks: a more general one, that can be used to evaluate both base and instruction-tuned models, and a chat variant, that requires instruction-following capabilities from the model.\n",
    "\n",
    "> NOTE: It is recommended to run this notebook inside a [NeMo Framework container](https://catalog.ngc.nvidia.com/orgs/nvidia/containers/nemo) which has all the required dependencies."
   ]
  },
  {
   "cell_type": "code",
   "execution_count": 1,
   "id": "64387183-fff3-4b40-ae7f-2dd83a719e25",
   "metadata": {},
   "outputs": [],
   "source": [
    "import logging\n",
    "import requests\n",
    "import signal\n",
    "import subprocess\n",
    "\n",
    "from nemo_eval import api\n",
    "from nemo_eval.utils.api import EvaluationConfig, EvaluationTarget\n",
    "from nemo_eval.utils.base import wait_for_fastapi_server\n",
    "\n",
    "logging.getLogger().setLevel(logging.INFO)"
   ]
  },
  {
   "cell_type": "markdown",
   "id": "fd220939-d4e6-45a8-930e-1ad1170ed1eb",
   "metadata": {},
   "source": [
    "## 1. Deploying the model"
   ]
  },
  {
   "cell_type": "markdown",
   "id": "1d4a74ae-460d-4a0b-b400-5238ad7febcc",
   "metadata": {},
   "source": [
    "First, you need to prepare a NeMo 2 checkpoint of the model you would like to evaluate. For the purpose of this tutorial, we will use Llama 3.2 1B Instruct checkpoint, which you can download from the [NGC Catalog](https://catalog.ngc.nvidia.com/orgs/nvidia/teams/nemo/models/llama-3_2-1b-instruct). Make sure to mount the directory containing the checkpoint when starting the container. In this tutorial, we assume that the checkpoint is available under `\"/checkpoints/llama-3_2-1b-instruct_v2.0\"` path.\n",
    "\n",
    "> NOTE: Some steps in this tutorial are **only available for instruction-tuned (chat) models**. If you are working with a base model instead, you can still evaluate it using the `completions` endpoint and the standard `mmlu` task."
   ]
  },
  {
   "cell_type": "code",
   "execution_count": 2,
   "id": "13c11c9a-a85e-4d85-a4a3-342bb0dafd1a",
   "metadata": {},
   "outputs": [],
   "source": [
    "# modify this variable to point to your checkpoint\n",
    "CHECKPOINT_PATH = \"/checkpoints/llama-3_2-1b-instruct_v2.0\"\n",
    "\n",
    "# modify this path if you would like to save results in a different directory\n",
    "WORKSPACE = \"/workspace\""
   ]
  },
  {
   "cell_type": "markdown",
   "id": "fcf9a27f-da0f-4799-a17a-dcc9f5d3de7a",
   "metadata": {},
   "source": [
    "After downloading the model, we can deploy it for evaluation.\n",
    "The command below will start a server for the provided checkpoint in a separate process using the `deploy_in_fw_oai_server_eval.py` script.\n",
    "The script will deploy the model using the [Triton Inference Server](https://docs.nvidia.com/deeplearning/triton-inference-server/user-guide/docs/index.html) and set up an OpenAI-like endpoints for querying it.\n",
    "\n",
    "If you would like to use multiple devices for the deployment, you can specify deployment parameters to distribute your model:"
   ]
  },
  {
   "cell_type": "code",
   "execution_count": 3,
   "id": "c24d2425-ab20-427c-a8ca-8961d0a6e1b5",
   "metadata": {},
   "outputs": [],
   "source": [
    "# FIXME(martas): Can we somehow use the script from export-deploy repo?\n",
    "deploy_script = \"./deploy.py\""
   ]
  },
  {
   "cell_type": "code",
   "execution_count": 4,
   "id": "08563a68-b872-46b3-a965-dae2c2833be3",
   "metadata": {},
   "outputs": [
    {
     "name": "stdout",
     "output_type": "stream",
     "text": [
      "# File deploy.py\n",
      "\n",
      "import sys\n",
      "\n",
      "from nemo_eval.api import deploy\n",
      "\n",
      "\n",
      "if __name__ == \"__main__\":\n",
      "    CHECKPOINT_PATH = sys.argv[1]\n",
      "    deploy(\n",
      "        nemo_checkpoint=CHECKPOINT_PATH,\n",
      "        max_input_len=8192,\n",
      "    )\n"
     ]
    }
   ],
   "source": [
    "!cat {deploy_script}"
   ]
  },
  {
   "cell_type": "code",
   "execution_count": 5,
   "id": "3e245c0c-0a12-40a9-ac62-e6e447e3c833",
   "metadata": {},
   "outputs": [
    {
     "name": "stderr",
     "output_type": "stream",
     "text": [
      "[NeMo W 2025-07-01 06:44:42 nemo_logging:405] The package `megatron.core` was not imported in this environment which is needed for SSMs.\n"
     ]
    },
    {
     "name": "stdout",
     "output_type": "stream",
     "text": [
      "[NeMo I 2025-07-01 06:44:44 nemo_logging:393] Apply rope scaling with factor=32.0, low_freq_factor=1.0, high_freq_factor=4.0, old_context_len=8192.\n",
      "I0701 06:44:45.591887 648 pinned_memory_manager.cc:277] \"Pinned memory pool is created at '0x720bec000000' with size 268435456\"\n",
      "I0701 06:44:45.593786 648 cuda_memory_manager.cc:107] \"CUDA memory pool is created on device 0 with size 67108864\"\n",
      "I0701 06:44:45.596812 648 server.cc:604] \n",
      "+------------------+------+\n",
      "| Repository Agent | Path |\n",
      "+------------------+------+\n",
      "+------------------+------+\n",
      "\n",
      "I0701 06:44:45.596827 648 server.cc:631] \n",
      "+---------+------+--------+\n",
      "| Backend | Path | Config |\n",
      "+---------+------+--------+\n",
      "+---------+------+--------+\n",
      "\n",
      "I0701 06:44:45.596835 648 server.cc:674] \n",
      "+-------+---------+--------+\n",
      "| Model | Version | Status |\n",
      "+-------+---------+--------+\n",
      "+-------+---------+--------+\n",
      "\n",
      "I0701 06:44:45.627039 648 metrics.cc:877] \"Collecting metrics for GPU 0: NVIDIA GeForce RTX 4090\"\n",
      "I0701 06:44:45.628966 648 metrics.cc:770] \"Collecting CPU metrics\"\n",
      "I0701 06:44:45.629053 648 tritonserver.cc:2598] \n",
      "+----------------------------------+------------------------------------------+\n",
      "| Option                           | Value                                    |\n",
      "+----------------------------------+------------------------------------------+\n",
      "| server_id                        | triton                                   |\n",
      "| server_version                   | 2.51.0                                   |\n",
      "| server_extensions                | classification sequence model_repository |\n",
      "|                                  |  model_repository(unload_dependents) sch |\n",
      "|                                  | edule_policy model_configuration system_ |\n",
      "|                                  | shared_memory cuda_shared_memory binary_ |\n",
      "|                                  | tensor_data parameters statistics trace  |\n",
      "|                                  | logging                                  |\n",
      "| model_repository_path[0]         | /root/.cache/pytriton/workspace_ara1nh_1 |\n",
      "|                                  | /model-store                             |\n",
      "| model_control_mode               | MODE_EXPLICIT                            |\n",
      "| startup_models_0                 | *                                        |\n",
      "| strict_model_config              | 0                                        |\n",
      "| model_config_name                |                                          |\n",
      "| rate_limit                       | OFF                                      |\n",
      "| pinned_memory_pool_byte_size     | 268435456                                |\n",
      "| cuda_memory_pool_byte_size{0}    | 67108864                                 |\n",
      "| min_supported_compute_capability | 6.0                                      |\n",
      "| strict_readiness                 | 1                                        |\n",
      "| exit_timeout                     | 30                                       |\n",
      "| cache_enabled                    | 0                                        |\n",
      "+----------------------------------+------------------------------------------+\n",
      "\n",
      "I0701 06:44:45.631192 648 grpc_server.cc:2558] \"Started GRPCInferenceService at 0.0.0.0:8001\"\n",
      "I0701 06:44:45.631318 648 http_server.cc:4713] \"Started HTTPService at 0.0.0.0:8000\"\n",
      "I0701 06:44:45.672389 648 http_server.cc:362] \"Started Metrics Service at 0.0.0.0:8002\"\n",
      "E0701 06:44:46.390806 648 model_repository_manager.cc:470] \"Failed to set config modification time: model_config_content_name_ is empty\"\n",
      "I0701 06:44:46.390974 648 model_lifecycle.cc:472] \"loading: megatron_model:1\"\n",
      "I0701 06:44:47.732536 648 python_be.cc:2249] \"TRITONBACKEND_ModelInstanceInitialize: megatron_model_0_0 (CPU device 0)\"\n",
      "I0701 06:44:48.123899 648 model_lifecycle.cc:839] \"successfully loaded 'megatron_model'\"\n"
     ]
    },
    {
     "name": "stderr",
     "output_type": "stream",
     "text": [
      "INFO:     Will watch for changes in these directories: ['/workspace/nemo-eval/tutorials']\n",
      "INFO:     Uvicorn running on http://0.0.0.0:8080 (Press CTRL+C to quit)\n",
      "INFO:     Started reloader process [244] using WatchFiles\n",
      "INFO:     Started server process [1003]\n",
      "INFO:     Waiting for application startup.\n",
      "INFO:     Application startup complete.\n"
     ]
    }
   ],
   "source": [
    "deploy_process = subprocess.Popen(\n",
    "    ['python', deploy_script, CHECKPOINT_PATH],\n",
    ")"
   ]
  },
  {
   "cell_type": "markdown",
   "id": "79a0e537-39f7-41a0-bce0-65b7e1c2b8c6",
   "metadata": {},
   "source": [
    "The server exposes three endpoints:\n",
    "* `/v1/triton_health`\n",
    "* `/v1/completions/`\n",
    "* `/v1/chat/completions/`\n",
    "\n",
    "The `/v1/triton_health` allows you to check if the underlying Triton server is ready.\n",
    "The `/v1/completions/` endpoint allows you to send prompt to the model as-is, without applying the chat template. The model responds with a text completion.\n",
    "Finally, the `/v1/chat/completions/` endpoint allows for multi-turn conversational interactions with the model. This endpoint accepts a structured list of messages with different roles (system, user, assistant) to maintain context and generates chat-like responses. Under the hood, a chat template is applied to turn the conversation into a single input string.\n",
    "\n",
    "**Please note that the chat endpoint will not work correctly for base models, as they do not define a chat template.**"
   ]
  },
  {
   "cell_type": "code",
   "execution_count": 8,
   "id": "bb3c1c12-f440-445f-ba1a-bbb0fa33e6d9",
   "metadata": {},
   "outputs": [],
   "source": [
    "base_url = \"http://0.0.0.0:8080\"\n",
    "model_name = \"megatron_model\"\n",
    "\n",
    "completions_url = f\"{base_url}/v1/completions/\"\n",
    "chat_url = f\"{base_url}/v1/chat/completions/\""
   ]
  },
  {
   "cell_type": "markdown",
   "id": "afd41d1c-aeb4-4bf7-bcd3-40ef4837a64d",
   "metadata": {},
   "source": [
    "Deployment can take a couple of minutes, especially for larger models. We will check the server status and wait until it is ready:"
   ]
  },
  {
   "cell_type": "code",
   "execution_count": null,
   "id": "c79e2ae8-758d-4bbc-b4a9-b65ea1140e27",
   "metadata": {},
   "outputs": [],
   "source": [
    "wait_for_fastapi_server(base_url)"
   ]
  },
  {
   "cell_type": "markdown",
   "id": "9f6bc803-da74-4db6-bdda-1ffd6543e22c",
   "metadata": {},
   "source": [
    "After the model was deployed we can query it:"
   ]
  },
  {
   "cell_type": "code",
   "execution_count": 9,
   "id": "bd43d967-1a9c-4716-84a0-e162262cea9e",
   "metadata": {},
   "outputs": [
    {
     "name": "stdout",
     "output_type": "stream",
     "text": [
      "[NeMo I 2025-07-01 06:45:44 nemo_logging:393] Request: model='megatron_model' max_tokens=16 temperature=1.0 top_p=0.0 top_k=0 prompt='My name is' logprobs=None echo=False\n",
      "INFO:     127.0.0.1:53908 - \"POST /v1/completions/ HTTP/1.1\" 500 Internal Server Error\n",
      "Internal Server Error\n"
     ]
    },
    {
     "name": "stderr",
     "output_type": "stream",
     "text": [
      "[NeMo W 2025-07-01 06:45:44 nemo_logging:405] /usr/local/lib/python3.12/dist-packages/pytriton/client/utils.py:191: NotSupportedTimeoutWarning: Client network and/or connection timeout is smaller than requested timeout_s. This may cause unexpected behavior. network_timeout=600 connection_timeout=600 timeout_s=300\n",
      "      warnings.warn(\n",
      "    \n",
      "[NeMo W 2025-07-01 06:45:44 nemo_logging:405] /usr/local/lib/python3.12/dist-packages/pytriton/client/utils.py:191: NotSupportedTimeoutWarning: Client network and/or connection timeout is smaller than requested timeout_s. This may cause unexpected behavior. network_timeout=600 connection_timeout=600 timeout_s=299.9998025894165\n",
      "      warnings.warn(\n",
      "    \n",
      "Exception while performing inference on requests=00000001: Traceback (most recent call last):\n",
      "  File \"/usr/local/lib/python3.12/dist-packages/pytriton/proxy/inference.py\", line 393, in _handle_requests\n",
      "    async for responses in self._model_callable(requests):\n",
      "  File \"/usr/local/lib/python3.12/dist-packages/pytriton/proxy/inference.py\", line 85, in _callable\n",
      "    yield inference_callable(requests)\n",
      "          ^^^^^^^^^^^^^^^^^^^^^^^^^^^^\n",
      "  File \"/usr/local/lib/python3.12/dist-packages/pytriton/decorators.py\", line 213, in batch\n",
      "    outputs = wrapped(*args, **new_kwargs)\n",
      "              ^^^^^^^^^^^^^^^^^^^^^^^^^^^^\n",
      "  File \"/usr/local/lib/python3.12/dist-packages/pytriton/decorators.py\", line 672, in wrapper\n",
      "    return wrapped(*args, **kwargs)\n",
      "           ^^^^^^^^^^^^^^^^^^^^^^^^\n",
      "  File \"/usr/local/lib/python3.12/dist-packages/nemo_deploy/nlp/megatronllm_deployable.py\", line 364, in triton_infer_fn\n",
      "    output_infer = self._infer_fn(\n",
      "                   ^^^^^^^^^^^^^^^\n",
      "  File \"/usr/local/lib/python3.12/dist-packages/nemo_deploy/nlp/megatronllm_deployable.py\", line 432, in _infer_fn\n",
      "    inference_params = CommonInferenceParams(\n",
      "                       ^^^^^^^^^^^^^^^^^^^^^^\n",
      "TypeError: SamplingParams.__init__() got an unexpected keyword argument 'return_prompt_top_n_logprobs'\n",
      "\n",
      "ERROR:    Exception in ASGI application\n",
      "Traceback (most recent call last):\n",
      "  File \"/usr/local/lib/python3.12/dist-packages/pytriton/client/client.py\", line 663, in _infer\n",
      "    response = self._infer_client.infer(\n",
      "               ^^^^^^^^^^^^^^^^^^^^^^^^^\n",
      "  File \"/usr/local/lib/python3.12/dist-packages/tritonclient/http/_client.py\", line 1482, in infer\n",
      "    _raise_if_error(response)\n",
      "  File \"/usr/local/lib/python3.12/dist-packages/tritonclient/http/_utils.py\", line 69, in _raise_if_error\n",
      "    raise error\n",
      "tritonclient.utils.InferenceServerException: [500] Failed to process the request(s) for model 'megatron_model_0_0', message: TritonModelException: Model execute error: Traceback (most recent call last):\n",
      "  File \"/tmp/folderqZJakQ/1/model.py\", line 492, in execute\n",
      "    raise triton_responses_or_error\n",
      "c_python_backend_utils.TritonModelException: Traceback (most recent call last):\n",
      "  File \"/usr/local/lib/python3.12/dist-packages/pytriton/proxy/inference.py\", line 393, in _handle_requests\n",
      "    async for responses in self._model_callable(requests):\n",
      "  File \"/usr/local/lib/python3.12/dist-packages/pytriton/proxy/inference.py\", line 85, in _callable\n",
      "    yield inference_callable(requests)\n",
      "          ^^^^^^^^^^^^^^^^^^^^^^^^^^^^\n",
      "  File \"/usr/local/lib/python3.12/dist-packages/pytriton/decorators.py\", line 213, in batch\n",
      "    outputs = wrapped(*args, **new_kwargs)\n",
      "              ^^^^^^^^^^^^^^^^^^^^^^^^^^^^\n",
      "  File \"/usr/local/lib/python3.12/dist-packages/pytriton/decorators.py\", line 672, in wrapper\n",
      "    return wrapped(*args, **kwargs)\n",
      "           ^^^^^^^^^^^^^^^^^^^^^^^^\n",
      "  File \"/usr/local/lib/python3.12/dist-packages/nemo_deploy/nlp/megatronllm_deployable.py\", line 364, in triton_infer_fn\n",
      "    output_infer = self._infer_fn(\n",
      "                   ^^^^^^^^^^^^^^^\n",
      "  File \"/usr/local/lib/python3.12/dist-packages/nemo_deploy/nlp/megatronllm_deployable.py\", line 432, in _infer_fn\n",
      "    inference_params = CommonInferenceParams(\n",
      "                       ^^^^^^^^^^^^^^^^^^^^^^\n",
      "TypeError: SamplingParams.__init__() got an unexpected keyword argument 'return_prompt_top_n_logprobs'\n",
      "\n",
      "\n",
      "\n",
      "At:\n",
      "  /tmp/folderqZJakQ/1/model.py(501): execute\n",
      "\n",
      "\n",
      "The above exception was the direct cause of the following exception:\n",
      "\n",
      "Traceback (most recent call last):\n",
      "  File \"/usr/local/lib/python3.12/dist-packages/uvicorn/protocols/http/httptools_impl.py\", line 409, in run_asgi\n",
      "    result = await app(  # type: ignore[func-returns-value]\n",
      "             ^^^^^^^^^^^^^^^^^^^^^^^^^^^^^^^^^^^^^^^^^^^^^^\n",
      "  File \"/usr/local/lib/python3.12/dist-packages/uvicorn/middleware/proxy_headers.py\", line 60, in __call__\n",
      "    return await self.app(scope, receive, send)\n",
      "           ^^^^^^^^^^^^^^^^^^^^^^^^^^^^^^^^^^^^\n",
      "  File \"/usr/local/lib/python3.12/dist-packages/fastapi/applications.py\", line 1054, in __call__\n",
      "    await super().__call__(scope, receive, send)\n",
      "  File \"/usr/local/lib/python3.12/dist-packages/starlette/applications.py\", line 112, in __call__\n",
      "    await self.middleware_stack(scope, receive, send)\n",
      "  File \"/usr/local/lib/python3.12/dist-packages/starlette/middleware/errors.py\", line 187, in __call__\n",
      "    raise exc\n",
      "  File \"/usr/local/lib/python3.12/dist-packages/starlette/middleware/errors.py\", line 165, in __call__\n",
      "    await self.app(scope, receive, _send)\n",
      "  File \"/usr/local/lib/python3.12/dist-packages/starlette/middleware/exceptions.py\", line 62, in __call__\n",
      "    await wrap_app_handling_exceptions(self.app, conn)(scope, receive, send)\n",
      "  File \"/usr/local/lib/python3.12/dist-packages/starlette/_exception_handler.py\", line 53, in wrapped_app\n",
      "    raise exc\n",
      "  File \"/usr/local/lib/python3.12/dist-packages/starlette/_exception_handler.py\", line 42, in wrapped_app\n",
      "    await app(scope, receive, sender)\n",
      "  File \"/usr/local/lib/python3.12/dist-packages/starlette/routing.py\", line 714, in __call__\n",
      "    await self.middleware_stack(scope, receive, send)\n",
      "  File \"/usr/local/lib/python3.12/dist-packages/starlette/routing.py\", line 734, in app\n",
      "    await route.handle(scope, receive, send)\n",
      "  File \"/usr/local/lib/python3.12/dist-packages/starlette/routing.py\", line 288, in handle\n",
      "    await self.app(scope, receive, send)\n",
      "  File \"/usr/local/lib/python3.12/dist-packages/starlette/routing.py\", line 76, in app\n",
      "    await wrap_app_handling_exceptions(app, request)(scope, receive, send)\n",
      "  File \"/usr/local/lib/python3.12/dist-packages/starlette/_exception_handler.py\", line 53, in wrapped_app\n",
      "    raise exc\n",
      "  File \"/usr/local/lib/python3.12/dist-packages/starlette/_exception_handler.py\", line 42, in wrapped_app\n",
      "    await app(scope, receive, sender)\n",
      "  File \"/usr/local/lib/python3.12/dist-packages/starlette/routing.py\", line 73, in app\n",
      "    response = await f(request)\n",
      "               ^^^^^^^^^^^^^^^^\n",
      "  File \"/usr/local/lib/python3.12/dist-packages/fastapi/routing.py\", line 301, in app\n",
      "    raw_response = await run_endpoint_function(\n",
      "                   ^^^^^^^^^^^^^^^^^^^^^^^^^^^^\n",
      "  File \"/usr/local/lib/python3.12/dist-packages/fastapi/routing.py\", line 212, in run_endpoint_function\n",
      "    return await dependant.call(**values)\n",
      "           ^^^^^^^^^^^^^^^^^^^^^^^^^^^^^^\n",
      "  File \"/usr/local/lib/python3.12/dist-packages/nemo_deploy/service/fastapi_interface_to_pytriton.py\", line 241, in completions_v1\n",
      "    output = await query_llm_async(\n",
      "             ^^^^^^^^^^^^^^^^^^^^^^\n",
      "  File \"/usr/local/lib/python3.12/dist-packages/nemo_deploy/service/fastapi_interface_to_pytriton.py\", line 214, in query_llm_async\n",
      "    result = await loop.run_in_executor(\n",
      "             ^^^^^^^^^^^^^^^^^^^^^^^^^^^\n",
      "  File \"/usr/lib/python3.12/concurrent/futures/thread.py\", line 58, in run\n",
      "    result = self.fn(*self.args, **self.kwargs)\n",
      "             ^^^^^^^^^^^^^^^^^^^^^^^^^^^^^^^^^^\n",
      "  File \"/usr/local/lib/python3.12/dist-packages/nemo_deploy/service/fastapi_interface_to_pytriton.py\", line 175, in _helper_fun\n",
      "    output = nq.query_llm(\n",
      "             ^^^^^^^^^^^^^\n",
      "  File \"/usr/local/lib/python3.12/dist-packages/nemo_deploy/nlp/query_llm.py\", line 143, in query_llm\n",
      "    result_dict = client.infer_batch(**inputs)\n",
      "                  ^^^^^^^^^^^^^^^^^^^^^^^^^^^^\n",
      "  File \"/usr/local/lib/python3.12/dist-packages/pytriton/client/client.py\", line 605, in infer_batch\n",
      "    return self._infer(inputs or named_inputs, parameters, headers)\n",
      "           ^^^^^^^^^^^^^^^^^^^^^^^^^^^^^^^^^^^^^^^^^^^^^^^^^^^^^^^^\n",
      "  File \"/usr/local/lib/python3.12/dist-packages/pytriton/client/client.py\", line 680, in _infer\n",
      "    raise PyTritonClientInferenceServerError(\n",
      "pytriton.client.exceptions.PyTritonClientInferenceServerError: Error occurred during inference request. Message: Failed to process the request(s) for model 'megatron_model_0_0', message: TritonModelException: Model execute error: Traceback (most recent call last):\n",
      "  File \"/tmp/folderqZJakQ/1/model.py\", line 492, in execute\n",
      "    raise triton_responses_or_error\n",
      "c_python_backend_utils.TritonModelException: Traceback (most recent call last):\n",
      "  File \"/usr/local/lib/python3.12/dist-packages/pytriton/proxy/inference.py\", line 393, in _handle_requests\n",
      "    async for responses in self._model_callable(requests):\n",
      "  File \"/usr/local/lib/python3.12/dist-packages/pytriton/proxy/inference.py\", line 85, in _callable\n",
      "    yield inference_callable(requests)\n",
      "          ^^^^^^^^^^^^^^^^^^^^^^^^^^^^\n",
      "  File \"/usr/local/lib/python3.12/dist-packages/pytriton/decorators.py\", line 213, in batch\n",
      "    outputs = wrapped(*args, **new_kwargs)\n",
      "              ^^^^^^^^^^^^^^^^^^^^^^^^^^^^\n",
      "  File \"/usr/local/lib/python3.12/dist-packages/pytriton/decorators.py\", line 672, in wrapper\n",
      "    return wrapped(*args, **kwargs)\n",
      "           ^^^^^^^^^^^^^^^^^^^^^^^^\n",
      "  File \"/usr/local/lib/python3.12/dist-packages/nemo_deploy/nlp/megatronllm_deployable.py\", line 364, in triton_infer_fn\n",
      "    output_infer = self._infer_fn(\n",
      "                   ^^^^^^^^^^^^^^^\n",
      "  File \"/usr/local/lib/python3.12/dist-packages/nemo_deploy/nlp/megatronllm_deployable.py\", line 432, in _infer_fn\n",
      "    inference_params = CommonInferenceParams(\n",
      "                       ^^^^^^^^^^^^^^^^^^^^^^\n",
      "TypeError: SamplingParams.__init__() got an unexpected keyword argument 'return_prompt_top_n_logprobs'\n",
      "\n",
      "\n",
      "\n",
      "At:\n",
      "  /tmp/folderqZJakQ/1/model.py(501): execute\n",
      "\n"
     ]
    }
   ],
   "source": [
    "completions_payload = {\n",
    "    \"prompt\": \"My name is\",\n",
    "    \"model\": model_name,\n",
    "    \"max_tokens\": 16,\n",
    "}\n",
    "\n",
    "response = requests.post(completions_url, json=completions_payload)\n",
    "print(response.content.decode())"
   ]
  },
  {
   "cell_type": "markdown",
   "id": "5dfaa539-929b-4ad8-a03f-74e963a858dc",
   "metadata": {},
   "source": [
    "If you are working with a instruction-tuned model, you can also use the chat endpoint:"
   ]
  },
  {
   "cell_type": "code",
   "execution_count": null,
   "id": "ab7251e4-6a26-439f-9b7b-8671692647a6",
   "metadata": {},
   "outputs": [],
   "source": [
    "chat_payload = {\n",
    "    \"messages\": [\n",
    "        {\"role\": \"user\", \"content\": \"What is your name?\"}\n",
    "    ],\n",
    "    \"model\": model_name,\n",
    "    \"max_tokens\": 64,\n",
    "}\n",
    "\n",
    "response = requests.post(chat_url, json=chat_payload)\n",
    "print(response.content.decode())"
   ]
  },
  {
   "cell_type": "markdown",
   "id": "4c2de593-23f2-4852-bd59-28932212ad64",
   "metadata": {},
   "source": [
    "## 2. Evaluating the completions endpoint"
   ]
  },
  {
   "cell_type": "markdown",
   "id": "165bc6ad-aa4c-44a4-98ed-e24c11682d97",
   "metadata": {},
   "source": [
    "Now, we are ready to start the evaluation. First, we will evaluate the completions endpoint on the `mmlu` task.\n",
    "We will load a pre-defined configuration from [NVIDIA Evals Factory](https://pypi.org/project/nvidia-lm-eval/) lm-evaluation-harness.\n",
    "This configuration has a `--num_fewshot 5` flag specified, which means that each question to the model is prepended with five examples of question-answer pairs.\n",
    "This way, the model is guided on the correct way to format the output.\n",
    "\n",
    "For the purpose of this tutorial, we will only use one sample from each subset (by setting the `limit_samples` flag to 1).\n",
    "To run the full evaluation, remove this parameter from the command below.\n",
    "Alternatively, you can set the parameter to, for example, 0.1 to run the evaluation on 10% of the dataset.\n",
    "\n",
    "For more details on arguments in the EvaluationTarget and EvaluationConfig classes for evaluation, refer to [`nemo/collections/llm/evaluation/api.py`](https://github.com/NVIDIA/NeMo/blob/main/nemo/collections/llm/evaluation/api.py)"
   ]
  },
  {
   "cell_type": "code",
   "execution_count": null,
   "id": "843b60c8-b852-412f-a358-5d5b04c6f130",
   "metadata": {},
   "outputs": [],
   "source": [
    "target_config = EvaluationTarget(api_endpoint={\"url\": completions_url, \"type\": \"completions\"})\n",
    "eval_config = EvaluationConfig(\n",
    "    type=\"mmlu\",\n",
    "    params={\"limit_samples\": 1},\n",
    "    output_dir=f\"{WORKSPACE}/mmlu\",\n",
    ")\n",
    "\n",
    "completions_results = api.evaluate(target_cfg=target_config, eval_cfg=eval_config)"
   ]
  },
  {
   "cell_type": "markdown",
   "id": "fae75bd0-1b3e-4c1a-b7bd-8fc2e4b5f39a",
   "metadata": {},
   "source": [
    "## 3. Evaluating the chat endpoint"
   ]
  },
  {
   "cell_type": "markdown",
   "id": "c4af0504-3462-4ccc-90b0-a3d50dcca0a8",
   "metadata": {},
   "source": [
    "Now, we will use a \"chat\" variant of the same benchmark, `mmlu_instruct`, for evaluating the chat endpoint.\n",
    "In this evaluation scenario, we do not send examples of questions and answers (0-shot setting) but instead provide an instruction to the model on how the output should be formatted.\n",
    "\n",
    "This variant of the benchmark is more challenging as it requires the model to not only provide the correct answer but also to format it according to the instruction.\n",
    "\n",
    "Again, we will only use one sample from each subset.\n",
    "You can modify this behavior by changing or removing the `limit_samples` parameter from the command below."
   ]
  },
  {
   "cell_type": "code",
   "execution_count": null,
   "id": "1e593329-a26c-4802-8cd6-33c6f1d78a74",
   "metadata": {},
   "outputs": [],
   "source": [
    "target_config = EvaluationTarget(api_endpoint={\"url\": chat_url, \"type\": \"chat\"})\n",
    "eval_config = EvaluationConfig(\n",
    "    type=\"mmlu_instruct\",\n",
    "    params={\"limit_samples\": 1},\n",
    "    output_dir=f\"{WORKSPACE}/mmlu_instruct\",\n",
    ")\n",
    "\n",
    "chat_results = api.evaluate(target_cfg=target_config, eval_cfg=eval_config)"
   ]
  },
  {
   "cell_type": "markdown",
   "id": "09c9bf0f-3a96-4e38-be21-159edf4c6bfa",
   "metadata": {},
   "source": [
    "# 4. Inspecting the results and shuting the server down"
   ]
  },
  {
   "cell_type": "markdown",
   "id": "9b56aa80-e0b7-4cba-9b93-df5d47898fd6",
   "metadata": {},
   "source": [
    "After the evaluation is finished, we can take a look at the results.\n",
    "We can compare the aggregated metrics or examine the scores for particular subtasks.\n",
    "\n",
    "It is often the case that results for the \"instruct\" variant are lower, as it requires strong instruction-following abilities from the model."
   ]
  },
  {
   "cell_type": "code",
   "execution_count": null,
   "id": "e2721e87-2573-4d58-91e1-dd563a80326c",
   "metadata": {},
   "outputs": [],
   "source": [
    "completions_results[\"groups\"][\"mmlu_str\"][\"metrics\"]"
   ]
  },
  {
   "cell_type": "code",
   "execution_count": null,
   "id": "4ca8c371-e470-4f0b-9a5a-e756cc58ae7e",
   "metadata": {},
   "outputs": [],
   "source": [
    "chat_results[\"groups\"][\"mmlu_str\"][\"metrics\"]"
   ]
  },
  {
   "cell_type": "code",
   "execution_count": null,
   "id": "b24c065c-4578-4233-89b3-6ddb26521bf6",
   "metadata": {},
   "outputs": [],
   "source": [
    "completions_results[\"tasks\"][\"mmlu_str_professional_medicine\"][\"metrics\"]"
   ]
  },
  {
   "cell_type": "code",
   "execution_count": null,
   "id": "3eecf6a8-4171-4642-81b3-6381c28d1fc8",
   "metadata": {},
   "outputs": [],
   "source": [
    "chat_results[\"tasks\"][\"mmlu_str_professional_medicine\"][\"metrics\"]"
   ]
  },
  {
   "cell_type": "markdown",
   "id": "5ceb940a-a07b-4af6-8f61-8ff173dc92c3",
   "metadata": {},
   "source": [
    "We can also examine the artifacts produced by both jobs.\n",
    "Inside the output directories, we can find `run_config.yml` files, which store details about the evaluation setup; `lm_cache_rank0.db`, file which contains a cache that can be used to resume an interrupted evaluation; and `triton_model` directory, which holds saved metrics as well as detailed logs for each input sample and its corresponding response."
   ]
  },
  {
   "cell_type": "code",
   "execution_count": null,
   "id": "45279e09-1559-4529-96ca-23e87eaa2d79",
   "metadata": {},
   "outputs": [],
   "source": [
    "! ls {WORKSPACE}/mmlu*"
   ]
  },
  {
   "cell_type": "markdown",
   "id": "d6cdf62d-5b6d-40c5-bcd8-2b42654f4855",
   "metadata": {},
   "source": [
    "Finally we can close the model's server.\n",
    "It can be done by sending `SIGINT` signal to the deployment process."
   ]
  },
  {
   "cell_type": "code",
   "execution_count": null,
   "id": "4597fde8-f357-41fc-bf2b-4507d3bdca30",
   "metadata": {},
   "outputs": [],
   "source": [
    "deploy_process.send_signal(signal.SIGKILL)"
   ]
  },
  {
   "cell_type": "code",
   "execution_count": null,
   "id": "3911d24e-5300-4b26-bc95-1a92ae88d6e9",
   "metadata": {},
   "outputs": [],
   "source": []
  }
 ],
 "metadata": {
  "kernelspec": {
   "display_name": "Python 3 (ipykernel)",
   "language": "python",
   "name": "python3"
  },
  "language_info": {
   "codemirror_mode": {
    "name": "ipython",
    "version": 3
   },
   "file_extension": ".py",
   "mimetype": "text/x-python",
   "name": "python",
   "nbconvert_exporter": "python",
   "pygments_lexer": "ipython3",
   "version": "3.12.3"
  }
 },
 "nbformat": 4,
 "nbformat_minor": 5
}
